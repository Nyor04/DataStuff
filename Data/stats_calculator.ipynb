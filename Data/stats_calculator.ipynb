{
 "cells": [
  {
   "cell_type": "code",
   "execution_count": 11,
   "id": "63cf0da2-c9ce-4f6f-b51f-6baad0fd8faa",
   "metadata": {},
   "outputs": [],
   "source": [
    "import numpy as np"
   ]
  },
  {
   "cell_type": "markdown",
   "id": "66a18530-4e70-4bd5-9fa9-1c3db4a976cd",
   "metadata": {},
   "source": [
    "\n",
    "\n",
    "```markdown\n",
    "### Instrucciones del ejercicio\n",
    "\n",
    "Crea una función llamada `calculate()` en un archivo llamado `mean_var_std.py` que utilice **Numpy** para calcular y devolver los siguientes valores estadísticos de las filas, columnas y del total de una matriz de 3 x 3:\n",
    "\n",
    "- Media (**mean**)\n",
    "- Varianza (**variance**)\n",
    "- Desviación estándar (**standard deviation**)\n",
    "- Máximo (**max**)\n",
    "- Mínimo (**min**)\n",
    "- Suma (**sum**)\n",
    "\n",
    "---\n",
    "\n",
    "#### Detalles del requerimiento:\n",
    "\n",
    "- La **entrada** de la función debe ser una **lista con 9 dígitos**.\n",
    "- La función debe convertir esa lista en un **array de 3x3** de Numpy.\n",
    "- El **resultado** debe ser un **diccionario** con los valores mencionados anteriormente **calculados por filas, por columnas y por la matriz aplanada**.\n",
    "- El **formato del diccionario devuelto** debe ser el siguiente:\n",
    "\n",
    "```python\n",
    "{\n",
    "  'mean': [axis1, axis2, flattened],\n",
    "  'variance': [axis1, axis2, flattened],\n",
    "  'standard deviation': [axis1, axis2, flattened],\n",
    "  'max': [axis1, axis2, flattened],\n",
    "  'min': [axis1, axis2, flattened],\n",
    "  'sum': [axis1, axis2, flattened]\n",
    "}\n",
    "```\n",
    "\n",
    "- Si se pasa una lista con **menos de 9 elementos**, la función debe lanzar una excepción `ValueError` con el mensaje:\n",
    "\n",
    "```\n",
    "\"List must contain nine numbers.\"\n",
    "```\n",
    "\n",
    "- Los valores dentro del diccionario deben ser **listas** (no arrays de Numpy).\n",
    "\n",
    "---\n",
    "\n",
    "#### Ejemplo:\n",
    "\n",
    "```python\n",
    "calculate([0,1,2,3,4,5,6,7,8])\n",
    "```\n",
    "\n",
    "Debe retornar:\n",
    "\n",
    "```python\n",
    "{\n",
    "  'mean': [[3.0, 4.0, 5.0], [1.0, 4.0, 7.0], 4.0],\n",
    "  'variance': [[6.0, 6.0, 6.0], [0.6666666666666666, 0.6666666666666666, 0.6666666666666666], 6.666666666666667],\n",
    "  'standard deviation': [[2.449489742783178, 2.449489742783178, 2.449489742783178], [0.816496580927726, 0.816496580927726, 0.816496580927726], 2.581988897471611],\n",
    "  'max': [[6, 7, 8], [2, 5, 8], 8],\n",
    "  'min': [[0, 1, 2], [0, 3, 6], 0],\n",
    "  'sum': [[9, 12, 15], [3, 12, 21], 36]\n",
    "}\n",
    "```\n",
    "```\n",
    "\n"
   ]
  },
  {
   "cell_type": "code",
   "execution_count": 64,
   "id": "b160d4b2-c9ec-4601-a43c-f7763761a7dc",
   "metadata": {},
   "outputs": [],
   "source": [
    "def calculate(*args: int) -> list:\n",
    "    if len(args) != int(9):\n",
    "        raise ValueError(\"List must contain nine numbers.\")\n",
    "    if not all(isinstance(arg,(int,float)) for arg in args):\n",
    "        raise TypeError(\"List must contain only integers values.\")\n",
    "    else:\n",
    "        arr = np.array(args, dtype=\"int32\")\n",
    "        matrix = arr.reshape(3,3)\n",
    "        response_template = {\n",
    "            'mean':[np.mean(matrix,axis=0).tolist(), np.mean(matrix,axis=1).tolist(), np.mean(matrix).tolist()],\n",
    "            'variance':[np.var(matrix,axis=0).tolist(), np.var(matrix,axis=1).tolist(), np.var(matrix).tolist()],\n",
    "            'standard deviation':[np.std(matrix,axis=0).tolist(), np.std(matrix,axis=1).tolist(), np.std(matrix).tolist()],\n",
    "            'max':[np.max(matrix,axis=0).tolist(), np.max(matrix,axis=1).tolist(), np.max(matrix).tolist()],\n",
    "            'min':[np.min(matrix,axis=0).tolist(), np.min(matrix,axis=1).tolist(), np.min(matrix).tolist()],\n",
    "            'sum':[np.sum(matrix,axis=0).tolist(), np.sum(matrix,axis=1).tolist(), np.sum(matrix).tolist()]\n",
    "        }\n",
    "        return response_template"
   ]
  },
  {
   "cell_type": "code",
   "execution_count": 65,
   "id": "c59b6c22-a982-4fee-b834-a1ae492a172f",
   "metadata": {},
   "outputs": [
    {
     "data": {
      "text/plain": [
       "{'mean': [[3.0, 4.0, 5.0], [1.0, 4.0, 7.0], 4.0],\n",
       " 'variance': [[6.0, 6.0, 6.0],\n",
       "  [0.6666666666666666, 0.6666666666666666, 0.6666666666666666],\n",
       "  6.666666666666667],\n",
       " 'standard deviation': [[2.449489742783178,\n",
       "   2.449489742783178,\n",
       "   2.449489742783178],\n",
       "  [0.816496580927726, 0.816496580927726, 0.816496580927726],\n",
       "  2.581988897471611],\n",
       " 'max': [[6, 7, 8], [2, 5, 8], 8],\n",
       " 'min': [[0, 1, 2], [0, 3, 6], 0],\n",
       " 'sum': [[9, 12, 15], [3, 12, 21], 36]}"
      ]
     },
     "execution_count": 65,
     "metadata": {},
     "output_type": "execute_result"
    }
   ],
   "source": [
    "calculate(0,1,2,3,4,5,6,7,8)"
   ]
  },
  {
   "cell_type": "code",
   "execution_count": null,
   "id": "a4aff996-1edc-40ac-a74d-ef903bbf4e11",
   "metadata": {},
   "outputs": [],
   "source": []
  }
 ],
 "metadata": {
  "kernelspec": {
   "display_name": "Python 3 (ipykernel)",
   "language": "python",
   "name": "python3"
  },
  "language_info": {
   "codemirror_mode": {
    "name": "ipython",
    "version": 3
   },
   "file_extension": ".py",
   "mimetype": "text/x-python",
   "name": "python",
   "nbconvert_exporter": "python",
   "pygments_lexer": "ipython3",
   "version": "3.10.12"
  }
 },
 "nbformat": 4,
 "nbformat_minor": 5
}
